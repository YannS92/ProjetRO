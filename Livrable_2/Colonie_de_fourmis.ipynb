{
 "cells": [
  {
   "cell_type": "markdown",
   "id": "a9b33cb5",
   "metadata": {},
   "source": [
    "<h1>Livrable final</h1>"
   ]
  },
  {
   "cell_type": "markdown",
   "id": "19aa1bc8",
   "metadata": {},
   "source": [
    "<h2>Définition du problème</h2>\n",
    "\n",
    "Pour ce projet, il nous a été demandé de proposer une solution au probléme de tournées de véhicules. Dans notre contexte, une entreprise veut investir dans l optimisation de son service de livraison. Nous allons devoir definir une carte, qui  sera composée de plusieurs villes à parcourir par les livreurs. L'objectif est de parcourir la carte en passant par chaque\n",
    "villes une seule fois sans possibilité d'y repasser durant la tournée. Le but étant de renvoyer le livreur à son point de\n",
    "départ, et de minimiser la distance de la tournée ainsi que la durée de livraison.\n",
    "<br>\n",
    "\n",
    "<h2>Contraintes choisies</h2>\n",
    "\n",
    "Parmis les contraintes qui nous ont été proposée, voici celle que nous avons retenu :<br>\n",
    "La fenêtre de temps de livraison pour chaque objet:\n",
    "<ul>\n",
    "    <li>\n",
    "Interdiction de livrer hors de la fenêtre\n",
    "    </li>\n",
    "</ul>"
   ]
  },
  {
   "cell_type": "markdown",
   "id": "165847fc",
   "metadata": {},
   "source": [
    "<h2>La structure des données</h2>\n",
    "\n",
    "Nous devons, dans un premier temps ecrire notre graphe de façon lisible pour notre programme. Pour cela, nous allons devoir choisir une structure de données.\n",
    "\n",
    "Dans notre cas, on a choisi l'utilisation d'une matrice d'adjacence dans un fichier.\n",
    "\n",
    "<h4>Matrices d'adjacences</h4>\n",
    "\n",
    "\n",
    "Dans cette structure, on utilise une matrice carrée $m$ de taille $n\\times n$ (avec $n$ le nombre de sommets) dans laquelle une arête $a~— b$ est représentée par la valeur $1$ dans l'élément $m_{ab}$. Pour les sommets non reliés entre eux, on met la valeur $0$.\n",
    "\n",
    "Est-elle meilleure que la liste d'adjacence ?\n",
    "\n",
    "Elle n'est ni meilleure, ni moins bonne. Certaines opérations sont plus faciles à réaliser sur cette structure, et inversement certaines sont plus faciles à effectuer sur la liste d'adjacence.\n",
    "\n",
    "Notamment, la matrice est plus efficace pour accéder aux prédécesseurs d'un voisin (c'est aussi rapide qu'accéder à ses successeurs), vérifier l'existence d'une arête, et modifier le graphe.\n",
    "    \n",
    "En revanche, construire une liste de voisins d'un sommet est plus lourd, puisqu'il faut parcourir toute la ligne concernée de la matrice, ce qui implique donc un traitement en $n$ opérations ($n$ étant le nombre de sommets).\n",
    "\n",
    "Il y a un autre point très important pour le calcul scientifique qui est la place en mémoire. Lorsqu'on considère des sommets qui se comptent en millions voire en milliards (ce qui est le cas du _social graph_ de Facebook, par exemple), c'est primordial. De ce point de vue, quelle est la structure la plus efficace ? \n",
    "\n",
    "On est tenté de répondre que c'est la liste d'adjacence, puisque la matrice occupe en mémoire une place proportionnelle au carré du nombre de sommets au carré, là où la liste occupe une place proportionnelle au nombre d'arêtes. Mais en fait, ces deux valeurs se rapprochent l'une de l'autre lorsque le graphe est très dense. Puisque la plupart des opérations sur les graphes sont rapides sur une matrice d'adjacence (à l'exception de la construction d'une liste de voisins, mais cela reste acceptable), on a tendance à utiliser la liste d'adjacence pour les grands graphes peu denses, et la matrice d'adjacence pour les autres.\n",
    "\n",
    "<h4>Les algorithmes de colonies de fourmis</h4>\n",
    "\n",
    "\n",
    "Les algorithmes de colonies de fourmis sont des algorithmes inspirés du comportement des fourmis, ou d'autres espèces formant un superorganisme, et qui constituent une famille de métaheuristiques d'optimisation.\n",
    "\n",
    "Un modèle expliquant ce comportement est le suivant :\n",
    "\n",
    "1. une fourmi (appelée « éclaireuse ») parcourt plus ou moins au hasard l’environnement autour de la colonie ;\n",
    "2. si celle-ci découvre une source de nourriture, elle rentre plus ou moins directement au nid, en laissant sur son chemin une piste de phéromones ;\n",
    "3. ces phéromones étant attractives, les fourmis passant à proximité vont avoir tendance à suivre, de façon plus ou moins directe, cette piste ;\n",
    "4. en revenant au nid, ces mêmes fourmis vont renforcer la piste ;\n",
    "5. si deux pistes sont possibles pour atteindre la même source de nourriture, celle étant la plus courte sera, dans le même temps, parcourue par plus de fourmis que la longue piste ;\n",
    "6. la piste courte sera donc de plus en plus renforcée, et donc de plus en plus attractive ;\n",
    "7. la longue piste, elle, finira par disparaître, les phéromones étant volatiles ;\n",
    "8. à terme, l’ensemble des fourmis a donc déterminé et « choisi » la piste la plus courte.\n",
    "\n",
    "<h4>Métaheuristique</h4>\n",
    "\n",
    "Une métaheuristique est un algorithme d’optimisation visant à résoudre des problèmes d’optimisation difficile (souvent issus des domaines de la recherche opérationnelle, de l'ingénierie ou de l'intelligence artificielle) pour lesquels on ne connaît pas de méthode classique plus efficace.\n",
    "\n",
    "D’une manière générale, les métaheuristiques s’articulent autour de plusieurs notions :\n",
    "\n",
    "Voisinage ;\n",
    "Diversification/exploration ;\n",
    "Intensification/exploitation ;\n",
    "Mémoire et apprentissage.\n",
    "\n",
    "Pour notre cas nous avont utiliser le voisinage :\n",
    "\n",
    "Le voisinage d'une solution est un sous-ensemble de solutions qu'il est possible d'atteindre par une série de transformations données. Par extension on désigne parfois par le terme « voisinage » l'ensemble des transformations considérées.\n",
    "\n",
    "Un voisinage simple pour le problème du voyageur de commerce sera, par exemple, l'ensemble des solutions qu'il est possible de construire en permutant deux villes dans une solution donnée.\n",
    "\n",
    "La notion de voisinage est sans doute le principe général le plus utilisé pour la conception d’heuristiques. Pour les problèmes combinatoires, le voisinage a un impact important sur le comportement des métaheuristiques, alors que pour des problèmes continus, la notion même de voisinage est plus difficile à cerner.\n",
    "\n",
    "Bien qu’il n’existe que très peu de résultats théoriques sur l’adéquation entre un voisinage et un problème discret donné, il peut être possible d’en calculer des indicateurs empiriques, comme la rugosité. Les techniques les plus classiques concernant la définition d’un voisinage tournent autour des notions de permutations, de chaînes d’éjections et d’optimisations partielles."
   ]
  },
  {
   "cell_type": "markdown",
   "id": "93ce4b69",
   "metadata": {
    "scrolled": true
   },
   "source": [
    "<h1>L'algorithme de colonies de fourmis sur une grosse instance</h1>"
   ]
  },
  {
   "cell_type": "markdown",
   "id": "459f7d32",
   "metadata": {},
   "source": [
    "<br>\n",
    "\n",
    "<h2>Etape n°1: Initialiser l'instance</h2>\n",
    "<br>\n",
    "L'instance de cette partie de l'implémentation de l'algorithme est de taille réduite. Par instance il est sous-entendu qu'on parle d'un graphe complet connexe représenté par une matrice carrée dont chaque entrée symbolise nos villes et les valeurs le temps de parcours d'une route.\n"
   ]
  },
  {
   "cell_type": "code",
   "execution_count": null,
   "id": "ddedf9cc",
   "metadata": {},
   "outputs": [
    {
     "ename": "",
     "evalue": "",
     "output_type": "error",
     "traceback": [
      "\u001b[1;31mRunning cells with 'Python 3.10.4 64-bit' requires ipykernel package.\n",
      "Run the following command to install 'ipykernel' into the Python environment. \n",
      "Command: 'c:/Users/tayan/AppData/Local/Programs/Python/Python310/python.exe -m pip install ipykernel -U --user --force-reinstall'"
     ]
    }
   ],
   "source": [
    "import numpy as np\n",
    "from numpy import inf\n",
    "import random as rd\n",
    "import warnings\n",
    "import csv\n",
    "import sys\n",
    "import ast\n",
    "import os\n",
    "import re\n",
    "\n",
    "#matrixes: distance and delivery schedule\n",
    "def readFile(name):\n",
    "    res = np.loadtxt(name, ndmin=2, dtype=np.int32)\n",
    "    return res\n",
    "\n",
    "basegraph = readFile(\"./graph_basegen\")\n",
    "file = open(\"./my_deliveries\", \"r\")\n",
    "contents = file.read()\n",
    "deliveries = ast.literal_eval(contents)\n",
    "file.close()\n",
    "graphesSize = len(basegraph)\n",
    "warnings.filterwarnings(\"ignore\", category=RuntimeWarning) \n",
    "\n",
    "#returns arr with all the possible path lengths\n",
    "def lengthCal(antPath,graph):\n",
    "    length =[]\n",
    "    dis = 0\n",
    "    for i in range(len(antPath)):\n",
    "        for j in range(len(antPath[i]) - 1):\n",
    "            dis += graph[antPath[i][j]][antPath[i][j + 1]]\n",
    "        dis += graph[antPath[i][-1]][antPath[i][0]]\n",
    "        length.append(dis)\n",
    "        dis = 0\n",
    "    return length"
   ]
  },
  {
   "cell_type": "markdown",
   "id": "15df5ca8",
   "metadata": {},
   "source": [
    "<h2>Etape n°2: Faire varier les temps de parcours selon la plage horaire</h2>\n",
    "<br>\n",
    "Ici, on va découper notre graphe de départ en sous graphes selon la plage horaire des villes. De ce fait on aura des tournées différentes selon les plages horaires. "
   ]
  },
  {
   "cell_type": "code",
   "execution_count": null,
   "id": "6bbf953e",
   "metadata": {
    "scrolled": false
   },
   "outputs": [
    {
     "name": "stdout",
     "output_type": "stream",
     "text": [
      "\n",
      "------------------------------------------\n",
      " [3, 4, 14, 17, 22, 29, 41, 42, 45, 46, 58, 63, 79, 115, 122, 128, 130, 131, 144, 151, 156, 176, 209, 212, 222, 227, 250, 255, 260, 272, 278, 294, 325, 336, 352, 362, 366, 367, 368, 372, 386, 387, 400, 420, 428, 436, 440, 450, 459, 461, 470, 513, 514, 528, 541, 555, 559, 567, 568, 571, 574, 583, 596, 601, 603, 649, 651, 677, 684, 696, 698, 726, 742, 743, 760, 770, 771, 773, 775, 776, 777, 793, 807, 809, 815, 837, 839, 851, 860, 875, 882, 886, 923, 924, 925, 947, 965, 968, 993]\n",
      "\n",
      "------------------------------------------\n",
      " [10, 23, 33, 66, 67, 80, 91, 95, 100, 101, 107, 117, 135, 153, 164, 165, 169, 174, 180, 187, 190, 192, 197, 205, 236, 245, 251, 252, 259, 265, 269, 270, 271, 285, 299, 300, 311, 316, 335, 363, 376, 397, 402, 415, 417, 434, 469, 480, 483, 490, 503, 510, 512, 518, 544, 552, 554, 556, 566, 575, 578, 592, 623, 637, 639, 642, 644, 662, 670, 671, 679, 686, 692, 715, 716, 719, 721, 724, 729, 737, 740, 746, 749, 759, 772, 778, 792, 801, 805, 824, 835, 836, 845, 854, 857, 858, 861, 879, 898, 904, 918, 928, 940, 945, 950, 955, 956, 957, 960, 984]\n",
      "\n",
      "------------------------------------------\n",
      " [6, 8, 20, 28, 31, 40, 50, 61, 62, 71, 78, 94, 112, 120, 129, 141, 143, 146, 149, 161, 171, 181, 184, 188, 196, 223, 225, 231, 232, 234, 243, 258, 266, 267, 274, 276, 283, 301, 305, 315, 326, 332, 333, 338, 346, 347, 353, 374, 390, 398, 405, 408, 410, 413, 425, 430, 438, 447, 449, 451, 454, 456, 474, 481, 497, 507, 521, 522, 523, 525, 526, 530, 531, 533, 546, 561, 605, 614, 626, 630, 648, 652, 657, 658, 667, 668, 672, 691, 701, 706, 717, 727, 735, 744, 755, 763, 766, 768, 769, 790, 791, 795, 799, 816, 831, 841, 859, 869, 888, 908, 909, 910, 911, 926, 927, 932, 942, 946, 948, 953, 970, 976, 995, 998]\n",
      "\n",
      "------------------------------------------\n",
      " [351, 705, 811, 881]\n",
      "\n",
      "------------------------------------------\n",
      " [18, 48, 51, 72, 88, 150, 155, 167, 172, 199, 200, 215, 216, 233, 244, 288, 292, 330, 337, 364, 380, 421, 487, 504, 519, 524, 557, 558, 609, 615, 622, 631, 640, 646, 653, 688, 758, 794, 802, 813, 832, 870, 887, 889, 967, 990]\n",
      "\n",
      "------------------------------------------\n",
      " [34, 38, 54, 73, 82, 89, 92, 102, 105, 134, 157, 170, 175, 182, 193, 198, 214, 281, 286, 307, 318, 369, 382, 385, 388, 435, 485, 498, 543, 550, 590, 598, 607, 608, 627, 660, 663, 676, 748, 800, 810, 812, 828, 867, 917, 958]\n"
     ]
    },
    {
     "ename": "",
     "evalue": "",
     "output_type": "error",
     "traceback": [
      "\u001b[1;31mRunning cells with 'Python 3.10.4 64-bit' requires ipykernel package.\n",
      "Run the following command to install 'ipykernel' into the Python environment. \n",
      "Command: 'c:/Users/tayan/AppData/Local/Programs/Python/Python310/python.exe -m pip install ipykernel -U --user --force-reinstall'"
     ]
    },
    {
     "ename": "",
     "evalue": "",
     "output_type": "error",
     "traceback": [
      "\u001b[1;31mRunning cells with 'Python 3.10.4 64-bit' requires ipykernel package.\n",
      "Run the following command to install 'ipykernel' into the Python environment. \n",
      "Command: 'c:/Users/tayan/AppData/Local/Programs/Python/Python310/python.exe -m pip install ipykernel -U --user --force-reinstall'"
     ]
    },
    {
     "ename": "",
     "evalue": "",
     "output_type": "error",
     "traceback": [
      "\u001b[1;31mRunning cells with 'Python 3.10.4 64-bit' requires ipykernel package.\n",
      "Run the following command to install 'ipykernel' into the Python environment. \n",
      "Command: 'c:/Users/tayan/AppData/Local/Programs/Python/Python310/python.exe -m pip install ipykernel -U --user --force-reinstall'"
     ]
    },
    {
     "ename": "",
     "evalue": "",
     "output_type": "error",
     "traceback": [
      "\u001b[1;31mRunning cells with 'Python 3.10.4 64-bit' requires ipykernel package.\n",
      "Run the following command to install 'ipykernel' into the Python environment. \n",
      "Command: 'c:/Users/tayan/AppData/Local/Programs/Python/Python310/python.exe -m pip install ipykernel -U --user --force-reinstall'"
     ]
    }
   ],
   "source": [
    "#separating the graph into mini graphes for each timestamp, 8h, 10h, 12h, 14h, 16h, 18h\n",
    "huit = []\n",
    "dix = []\n",
    "douze = []\n",
    "quatorze = []\n",
    "seize = []\n",
    "dixhuit = []\n",
    "\n",
    "for d in deliveries:\n",
    "    if deliveries[d] == 8:\n",
    "        huit.append(d)\n",
    "    if deliveries[d] == 10:\n",
    "        dix.append(d)\n",
    "    if deliveries[d] == 12:\n",
    "        douze.append(d)\n",
    "    if deliveries[d] == 14:\n",
    "        quatorze.append(d)\n",
    "    if deliveries[d] == 16:\n",
    "        seize.append(d)\n",
    "    if deliveries[d] == 18:\n",
    "        dixhuit.append(d)\n",
    " \n",
    "graphes = []\n",
    "for x in (huit,dix,douze,quatorze,seize, dixhuit):\n",
    "    print(\"\\n------------------------------------------\\n\", x)\n",
    "    if len(x)!=0:\n",
    "        sousgraph = np.zeros((len(x), len(x))).astype(int)\n",
    "        for i in range(len(x)):\n",
    "            for j in range(len(x)):\n",
    "                sousgraph[i-1][j-1]=basegraph[x[i-1]][x[j-1]]\n",
    "        graphes.append(sousgraph)\n",
    "    elif not x:\n",
    "        graphes.append([])"
   ]
  },
  {
   "cell_type": "markdown",
   "id": "1ee28033",
   "metadata": {},
   "source": [
    "<h2>Etape n°3: Les colonies de fourmies</h2>\n",
    "<br>\n",
    "C'est ici que la magie opère. En effet, le but des fourmis ici est de se repérer au phéromones que leurs prédécesseuse on laissé en parcourant tout le graphe. Tout d'abord on lance une éclaireuse pour chaque plages horaires, puis après qu'elles aient parcouru leur graphe, on commence à optimiser le parcours du graphe grace à leur visibilité (appelée ici probabilité) de la prochaine arrête à emprunter et au phéromones à déposer. A savoir qu'elles n'en déposent que si la visibilité calculée est meilleures que la précédente arête. Le plus optimal sera trouvé quand la visibilité et les phéromones déposés sur la tournée ne pourront plus avoir de meilleurs résultats."
   ]
  },
  {
   "cell_type": "code",
   "execution_count": null,
   "id": "afc8e02e",
   "metadata": {
    "scrolled": false
   },
   "outputs": [
    {
     "name": "stdout",
     "output_type": "stream",
     "text": [
      "Les point à livrer pour cette plage horaire sont :  [3, 4, 14, 17, 22, 29, 41, 42, 45, 46, 58, 63, 79, 115, 122, 128, 130, 131, 144, 151, 156, 176, 209, 212, 222, 227, 250, 255, 260, 272, 278, 294, 325, 336, 352, 362, 366, 367, 368, 372, 386, 387, 400, 420, 428, 436, 440, 450, 459, 461, 470, 513, 514, 528, 541, 555, 559, 567, 568, 571, 574, 583, 596, 601, 603, 649, 651, 677, 684, 696, 698, 726, 742, 743, 760, 770, 771, 773, 775, 776, 777, 793, 807, 809, 815, 837, 839, 851, 860, 875, 882, 886, 923, 924, 925, 947, 965, 968, 993]\n",
      "La distance est :  19876\n",
      "Le chemin le plus court pour cette plage est  :\n",
      "[513, 514, 3, 4, 14, 528, 17, 22, 29, 541, 41, 42, 555, 45, 46, 559, 567, 568, 58, 571, 574, 63, 583, 79, 596, 601, 603, 115, 122, 128, 130, 131, 649, 651, 144, 151, 156, 677, 684, 176, 696, 698, 209, 212, 726, 222, 227, 742, 743, 760, 250, 255, 770, 771, 260, 773, 775, 776, 777, 272, 278, 793, 294, 807, 809, 815, 325, 837, 839, 336, 851, 860, 352, 362, 875, 366, 367, 368, 882, 372, 886, 386, 387, 400, 923, 924, 925, 420, 428, 947, 436, 440, 450, 965, 968, 459, 461, 470, 993]\n",
      "----------------------------------------------------------------------------------------\n",
      "Les point à livrer pour cette plage horaire sont :  [10, 23, 33, 66, 67, 80, 91, 95, 100, 101, 107, 117, 135, 153, 164, 165, 169, 174, 180, 187, 190, 192, 197, 205, 236, 245, 251, 252, 259, 265, 269, 270, 271, 285, 299, 300, 311, 316, 335, 363, 376, 397, 402, 415, 417, 434, 469, 480, 483, 490, 503, 510, 512, 518, 544, 552, 554, 556, 566, 575, 578, 592, 623, 637, 639, 642, 644, 662, 670, 671, 679, 686, 692, 715, 716, 719, 721, 724, 729, 737, 740, 746, 749, 759, 772, 778, 792, 801, 805, 824, 835, 836, 845, 854, 857, 858, 861, 879, 898, 904, 918, 928, 940, 945, 950, 955, 956, 957, 960, 984]\n",
      "La distance est :  22724\n",
      "Le chemin le plus court pour cette plage est  :\n",
      "[512, 518, 10, 23, 544, 33, 552, 554, 556, 566, 575, 578, 66, 67, 80, 592, 91, 95, 100, 101, 107, 623, 117, 637, 639, 642, 644, 135, 662, 153, 670, 671, 164, 165, 679, 169, 174, 686, 180, 692, 187, 190, 192, 197, 715, 716, 205, 719, 721, 724, 729, 737, 740, 746, 236, 749, 245, 759, 251, 252, 259, 772, 265, 778, 269, 270, 271, 792, 285, 801, 805, 299, 300, 311, 824, 316, 835, 836, 845, 335, 854, 857, 858, 861, 363, 879, 376, 898, 904, 397, 402, 918, 415, 928, 417, 940, 945, 434, 950, 955, 956, 957, 960, 469, 984, 480, 483, 490, 503, 510]\n",
      "----------------------------------------------------------------------------------------\n",
      "Les point à livrer pour cette plage horaire sont :  [6, 8, 20, 28, 31, 40, 50, 61, 62, 71, 78, 94, 112, 120, 129, 141, 143, 146, 149, 161, 171, 181, 184, 188, 196, 223, 225, 231, 232, 234, 243, 258, 266, 267, 274, 276, 283, 301, 305, 315, 326, 332, 333, 338, 346, 347, 353, 374, 390, 398, 405, 408, 410, 413, 425, 430, 438, 447, 449, 451, 454, 456, 474, 481, 497, 507, 521, 522, 523, 525, 526, 530, 531, 533, 546, 561, 605, 614, 626, 630, 648, 652, 657, 658, 667, 668, 672, 691, 701, 706, 717, 727, 735, 744, 755, 763, 766, 768, 769, 790, 791, 795, 799, 816, 831, 841, 859, 869, 888, 908, 909, 910, 911, 926, 927, 932, 942, 946, 948, 953, 970, 976, 995, 998]\n",
      "La distance est :  26252\n",
      "Le chemin le plus court pour cette plage est  :\n",
      "[6, 8, 521, 522, 523, 525, 526, 530, 531, 20, 533, 28, 31, 546, 40, 561, 50, 61, 62, 71, 78, 605, 94, 614, 112, 626, 630, 120, 129, 648, 652, 141, 143, 657, 658, 146, 149, 667, 668, 672, 161, 171, 691, 181, 184, 188, 701, 706, 196, 717, 727, 223, 735, 225, 231, 744, 232, 234, 755, 243, 763, 766, 768, 769, 258, 266, 267, 274, 276, 790, 791, 283, 795, 799, 301, 816, 305, 315, 831, 326, 841, 332, 333, 338, 346, 859, 347, 353, 869, 374, 888, 390, 908, 909, 398, 911, 910, 405, 408, 410, 413, 926, 927, 932, 425, 942, 430, 946, 948, 438, 953, 447, 449, 451, 454, 456, 970, 976, 474, 481, 995, 998, 497, 507]\n",
      "----------------------------------------------------------------------------------------\n",
      "Les point à livrer pour cette plage horaire sont :  [351, 705, 811, 881]\n",
      "La distance est :  697\n",
      "Le chemin le plus court pour cette plage est  :\n",
      "[881, 811, 705, 351]\n",
      "----------------------------------------------------------------------------------------\n",
      "Les point à livrer pour cette plage horaire sont :  [18, 48, 51, 72, 88, 150, 155, 167, 172, 199, 200, 215, 216, 233, 244, 288, 292, 330, 337, 364, 380, 421, 487, 504, 519, 524, 557, 558, 609, 615, 622, 631, 640, 646, 653, 688, 758, 794, 802, 813, 832, 870, 887, 889, 967, 990]\n",
      "La distance est :  9246\n",
      "Le chemin le plus court pour cette plage est  :\n",
      "[640, 646, 519, 524, 653, 18, 150, 794, 155, 288, 802, 292, 421, 167, 172, 813, 558, 557, 48, 688, 51, 832, 967, 72, 199, 330, 200, 337, 215, 216, 88, 990, 609, 870, 487, 615, 233, 631, 364, 622, 244, 758, 887, 504, 889, 380]\n",
      "----------------------------------------------------------------------------------------\n",
      "Les point à livrer pour cette plage horaire sont :  [34, 38, 54, 73, 82, 89, 92, 102, 105, 134, 157, 170, 175, 182, 193, 198, 214, 281, 286, 307, 318, 369, 382, 385, 388, 435, 485, 498, 543, 550, 590, 598, 607, 608, 627, 660, 663, 676, 748, 800, 810, 812, 828, 867, 917, 958]\n",
      "La distance est :  9649\n",
      "Le chemin le plus court pour cette plage est  :\n",
      "[385, 388, 134, 660, 917, 663, 281, 157, 286, 543, 800, 34, 676, 550, 38, 810, 170, 812, 175, 435, 307, 182, 54, 828, 318, 958, 193, 198, 73, 590, 82, 598, 214, 89, 92, 607, 608, 867, 485, 102, 105, 748, 369, 498, 627, 382]\n",
      "----------------------------------------------------------------------------------------\n",
      "Le parcours le plus optimal est :\n",
      "[[513, 514, 3, 4, 14, 528, 17, 22, 541, 29, 41, 42, 555, 45, 46, 559, 567, 568, 58, 571, 574, 63, 583, 79, 596, 601, 603, 115, 122, 128, 130, 131, 649, 651, 144, 151, 156, 677, 684, 176, 696, 698, 209, 212, 726, 222, 227, 742, 743, 760, 250, 255, 770, 771, 260, 773, 775, 776, 777, 272, 278, 793, 294, 807, 809, 815, 325, 837, 839, 336, 851, 860, 352, 362, 875, 366, 367, 368, 882, 372, 886, 386, 387, 400, 923, 924, 925, 420, 428, 947, 436, 440, 450, 965, 968, 459, 461, 470, 993], [512, 518, 10, 23, 544, 33, 552, 554, 556, 566, 575, 578, 66, 67, 80, 592, 91, 95, 100, 101, 107, 623, 117, 637, 639, 642, 644, 135, 662, 153, 670, 671, 164, 165, 679, 169, 174, 686, 180, 692, 187, 190, 192, 197, 715, 716, 205, 719, 721, 724, 729, 737, 740, 746, 236, 749, 245, 759, 251, 252, 259, 772, 265, 778, 269, 270, 271, 792, 285, 801, 805, 299, 300, 311, 824, 316, 835, 836, 845, 335, 854, 857, 858, 861, 363, 879, 376, 898, 904, 397, 402, 918, 415, 928, 417, 940, 945, 434, 950, 955, 956, 957, 960, 469, 984, 480, 483, 490, 503, 510], [6, 8, 521, 522, 523, 525, 526, 530, 531, 20, 533, 28, 31, 546, 40, 561, 50, 61, 62, 71, 78, 605, 94, 614, 112, 626, 630, 120, 129, 648, 652, 141, 143, 657, 658, 146, 149, 667, 668, 672, 161, 171, 691, 181, 184, 188, 701, 706, 196, 717, 727, 223, 735, 225, 231, 744, 232, 234, 755, 243, 763, 766, 768, 769, 258, 266, 267, 274, 276, 790, 791, 283, 795, 799, 301, 816, 305, 315, 831, 326, 841, 332, 333, 338, 346, 859, 347, 353, 869, 374, 888, 390, 908, 909, 398, 911, 910, 405, 408, 410, 413, 926, 927, 932, 425, 942, 430, 946, 948, 438, 953, 447, 449, 451, 454, 456, 970, 976, 474, 481, 995, 998, 497, 507], [881, 811, 705, 351], [640, 646, 519, 524, 653, 18, 150, 794, 155, 288, 802, 292, 421, 167, 172, 813, 558, 557, 48, 688, 51, 832, 967, 72, 199, 330, 200, 337, 215, 216, 88, 990, 609, 870, 487, 615, 233, 364, 622, 887, 244, 758, 631, 504, 889, 380], [385, 388, 134, 660, 917, 663, 281, 157, 286, 543, 800, 34, 676, 550, 38, 810, 170, 812, 175, 435, 307, 182, 54, 828, 318, 958, 193, 198, 73, 590, 82, 598, 214, 89, 92, 607, 608, 867, 485, 102, 105, 748, 369, 498, 627, 382]]\n",
      "----------------------------------------------------------------------------------------\n",
      "Le nombre de points à livrer est : 429\n"
     ]
    },
    {
     "ename": "",
     "evalue": "",
     "output_type": "error",
     "traceback": [
      "\u001b[1;31mRunning cells with 'Python 3.10.4 64-bit' requires ipykernel package.\n",
      "Run the following command to install 'ipykernel' into the Python environment. \n",
      "Command: 'c:/Users/tayan/AppData/Local/Programs/Python/Python310/python.exe -m pip install ipykernel -U --user --force-reinstall'"
     ]
    },
    {
     "ename": "",
     "evalue": "",
     "output_type": "error",
     "traceback": [
      "\u001b[1;31mRunning cells with 'Python 3.10.4 64-bit' requires ipykernel package.\n",
      "Run the following command to install 'ipykernel' into the Python environment. \n",
      "Command: 'c:/Users/tayan/AppData/Local/Programs/Python/Python310/python.exe -m pip install ipykernel -U --user --force-reinstall'"
     ]
    },
    {
     "ename": "",
     "evalue": "",
     "output_type": "error",
     "traceback": [
      "\u001b[1;31mRunning cells with 'Python 3.10.4 64-bit' requires ipykernel package.\n",
      "Run the following command to install 'ipykernel' into the Python environment. \n",
      "Command: 'c:/Users/tayan/AppData/Local/Programs/Python/Python310/python.exe -m pip install ipykernel -U --user --force-reinstall'"
     ]
    },
    {
     "ename": "",
     "evalue": "",
     "output_type": "error",
     "traceback": [
      "\u001b[1;31mRunning cells with 'Python 3.10.4 64-bit' requires ipykernel package.\n",
      "Run the following command to install 'ipykernel' into the Python environment. \n",
      "Command: 'c:/Users/tayan/AppData/Local/Programs/Python/Python310/python.exe -m pip install ipykernel -U --user --force-reinstall'"
     ]
    }
   ],
   "source": [
    "import time\n",
    "\n",
    "#ant colony for each graph\n",
    "start = time.process_time()\n",
    "\n",
    "#calculating if we can deliver all points in time according to traffic data\n",
    "#open traffic file\n",
    "file = open(\"./average_at_peek\", \"r\")\n",
    "contents = file.read()\n",
    "traffic = ast.literal_eval(contents)\n",
    "file.close()\n",
    "\n",
    "\n",
    "shortest_path =[]\n",
    "for index,graph in enumerate(graphes):\n",
    "    tmp_path=[]\n",
    "    if index == 0:\n",
    "        reindex = huit\n",
    "    elif index == 1:\n",
    "        reindex = dix\n",
    "    elif index == 2:\n",
    "        reindex = douze\n",
    "    elif index == 3:\n",
    "        reindex = quatorze\n",
    "    elif index == 4:\n",
    "        reindex = seize\n",
    "    elif index == 5:\n",
    "        reindex = dixhuit\n",
    "    print(\"Les point à livrer pour cette plage horaire sont : \", reindex)\n",
    "    if len(graph)!=0 and len(graph) != 1 and len(graph)!=2:\n",
    "        graphSize=len(graph)\n",
    "        colonies = int(graphSize/2)\n",
    "        ants = graphSize\n",
    "\n",
    "        #pheromones init\n",
    "        pheromones = np.ones((graphSize,graphSize))\n",
    "        distanceproba = 1 / (np.eye(graphSize) + graph) - np.eye(graphSize)\n",
    "        #colonies\n",
    "        for i in range(colonies):\n",
    "            antPath = np.zeros((graphSize, graphSize)).astype(int) - 1   # Ant's path\n",
    "            startPoint = [i for i in range(graphSize)]\n",
    "            rd.shuffle(startPoint)\n",
    "            unvisited = []\n",
    "            probability = []\n",
    "            probAccum = 0\n",
    "            for i in range(len(antPath)):\n",
    "                antPath[i][0] = startPoint[i]\n",
    "            for i in range(len(antPath[0])-1):\n",
    "                for j in range(len(antPath)):\n",
    "                    for p in range(graphSize):\n",
    "                        if p not in antPath[j]:\n",
    "                            unvisited.append(p)\n",
    "                    for point in unvisited:\n",
    "                        probAccum += pheromones[antPath[j][i]][point] ** 1 * distanceproba[antPath[j][i]][point] **1\n",
    "                    for n in unvisited:\n",
    "                        p =(pheromones[antPath[j][i]][n] ** 1 * distanceproba[antPath[j][i]][n] ** 1 / probAccum) if probAccum != 0 else 0\n",
    "                        probability.append(p)\n",
    "                    #russian roulette is not the same without a gun\n",
    "                    roulette = np.array(probability).cumsum()\n",
    "                    r = rd.uniform(min(roulette), max(roulette))\n",
    "                    #roulette wheeeeeeee(l)\n",
    "                    for x in range(len(roulette)):\n",
    "                        if roulette[x] >= r:\n",
    "                            antPath[j][i+1] = unvisited[x]\n",
    "                            break\n",
    "                    unvisited = []\n",
    "                    probability = []\n",
    "                    probAccum = 0         \n",
    "            length = lengthCal(antPath,graph)\n",
    "            for i in range(len(antPath)):\n",
    "                for j in range(len(antPath[i]) - 1):\n",
    "                    pheromones[antPath[i][j]][antPath[i][j + 1]] += 1 / length[i]\n",
    "                pheromones[antPath[i][-1]][antPath[i][0]] += 1 / length[i]\n",
    "        print(\"La distance est : \", min(length))\n",
    "        print(\"Le chemin le plus court pour cette plage est  :\")\n",
    "        for i in antPath[length.index(min(length))]:\n",
    "            tmp_path.append(reindex[i])\n",
    "    elif len(graph)==2:\n",
    "        print(\"Le chemin le plus court pour cette plage est  :\")\n",
    "        for i in range(len(graph)):\n",
    "            tmp_path.append(reindex[i])\n",
    "    elif graph == [[0]] and len(graph)!=0:\n",
    "        print(\"Le chemin le plus court pour cette plage est  :\")\n",
    "        tmp_path.append(reindex[0])\n",
    "    pp = list(set(tmp_path))\n",
    "    tmp_path=pp.copy()\n",
    "    print(tmp_path)\n",
    "    shortest_path.append(tmp_path)\n",
    "    \n",
    "    print(\"----------------------------------------------------------------------------------------\")\n",
    "stop = time.process_time()\n",
    "print(\"Le parcours le plus optimal est :\")\n",
    "tmp=0\n",
    "kk=[]\n",
    "for x in shortest_path:\n",
    "    kk.append(list(set(x)))\n",
    "shortest_path=kk.copy()\n",
    "print(shortest_path)\n",
    "for x in shortest_path:\n",
    "    if x:\n",
    "        tmp+=len(x)\n",
    "nbDel = tmp\n",
    "print(\"----------------------------------------------------------------------------------------\")\n",
    "print(\"Le nombre de points à livrer est :\",nbDel)\n"
   ]
  },
  {
   "cell_type": "markdown",
   "id": "434bf0ba",
   "metadata": {},
   "source": [
    "<h2>Etape n°4: La pause</h2>\n",
    "<br>\n",
    "Les méta-heuristque se comportent comme des algorithmes de recherche, tentant d’apprendre les caractéristiques d’un problème afin d’en trouver une approximation de la meilleure solution. Mais si on est limité par le temps, l'algorithme doit être capable de renvoyer la meilleure solution qu'il a trouvé : celle qui tend le plus vers un optimum global.<br>\n",
    "Si on pause la cellule du dessus, l'algorithme arrête d'itérer. Après ça, il nous renvoit le meilleur chemin qu'il ait pu trouver durant sont temps de calcul en respectant les contraintes imposées."
   ]
  },
  {
   "cell_type": "code",
   "execution_count": null,
   "id": "bd03c637",
   "metadata": {},
   "outputs": [
    {
     "name": "stdout",
     "output_type": "stream",
     "text": [
      "Le chemin final en respectant les plages horaires en focntion du traffic est : \n",
      "[0, 513, 514, 3, 4, 14, 512, 518, 10, 23, 544]\n",
      "----------------------------------------------------------------------------------------\n",
      "les points qui n'ont pas pu etre livrés sont :  [528, 17, 22, 29, 541, 41, 42, 555, 45, 46, 559, 567, 568, 58, 571, 574, 63, 583, 79, 596, 601, 603, 115, 122, 128, 130, 131, 649, 651, 144, 151, 156, 677, 684, 176, 696, 698, 209, 212, 726, 222, 227, 742, 743, 760, 250, 255, 770, 771, 260, 773, 775, 776, 777, 272, 278, 793, 294, 807, 809, 815, 325, 837, 839, 336, 851, 860, 352, 362, 875, 366, 367, 368, 882, 372, 886, 386, 387, 400, 923, 924, 925, 420, 428, 947, 436, 440, 450, 965, 968, 459, 461, 470, 993, 33, 552, 554, 556, 566, 575, 66, 67, 578, 80, 592, 91, 95, 100, 101, 107, 623, 117, 637, 639, 642, 644, 135, 662, 153, 670, 671, 164, 165, 679, 169, 686, 174, 180, 692, 187, 190, 192, 197, 715, 716, 205, 719, 721, 724, 729, 737, 740, 746, 236, 749, 245, 759, 251, 252, 259, 772, 265, 778, 269, 270, 271, 792, 285, 801, 805, 299, 300, 311, 824, 316, 835, 836, 845, 335, 854, 857, 858, 861, 363, 879, 376, 898, 904, 397, 402, 918, 415, 928, 417, 940, 945, 434, 950, 955, 956, 957, 960, 469, 984, 480, 483, 490, 503, 510]\n"
     ]
    },
    {
     "ename": "",
     "evalue": "",
     "output_type": "error",
     "traceback": [
      "\u001b[1;31mRunning cells with 'Python 3.10.4 64-bit' requires ipykernel package.\n",
      "Run the following command to install 'ipykernel' into the Python environment. \n",
      "Command: 'c:/Users/tayan/AppData/Local/Programs/Python/Python310/python.exe -m pip install ipykernel -U --user --force-reinstall'"
     ]
    },
    {
     "ename": "",
     "evalue": "",
     "output_type": "error",
     "traceback": [
      "\u001b[1;31mRunning cells with 'Python 3.10.4 64-bit' requires ipykernel package.\n",
      "Run the following command to install 'ipykernel' into the Python environment. \n",
      "Command: 'c:/Users/tayan/AppData/Local/Programs/Python/Python310/python.exe -m pip install ipykernel -U --user --force-reinstall'"
     ]
    },
    {
     "ename": "",
     "evalue": "",
     "output_type": "error",
     "traceback": [
      "\u001b[1;31mRunning cells with 'Python 3.10.4 64-bit' requires ipykernel package.\n",
      "Run the following command to install 'ipykernel' into the Python environment. \n",
      "Command: 'c:/Users/tayan/AppData/Local/Programs/Python/Python310/python.exe -m pip install ipykernel -U --user --force-reinstall'"
     ]
    },
    {
     "ename": "",
     "evalue": "",
     "output_type": "error",
     "traceback": [
      "\u001b[1;31mRunning cells with 'Python 3.10.4 64-bit' requires ipykernel package.\n",
      "Run the following command to install 'ipykernel' into the Python environment. \n",
      "Command: 'c:/Users/tayan/AppData/Local/Programs/Python/Python310/python.exe -m pip install ipykernel -U --user --force-reinstall'"
     ]
    }
   ],
   "source": [
    "\n",
    "#identify empty delivery times\n",
    "separation = 0\n",
    "for index, x in enumerate((huit,dix,douze,quatorze,seize, dixhuit)):\n",
    "    if x:\n",
    "        if index < 3:\n",
    "            separation+=1\n",
    "\n",
    "#for each delivery time, check if the route isnt more than 2 hours \n",
    "final_path=[0]\n",
    "deliveries_left = []\n",
    "for index, path in enumerate(shortest_path):\n",
    "    time=0\n",
    "    if(len(graph)!=0):\n",
    "        for i,point in enumerate(path):\n",
    "            if (time > 7200.0):\n",
    "                deliveries_left.append(point)\n",
    "            elif time<7200.0:\n",
    "                if i < len(path)-1:\n",
    "                    dist= basegraph[path[i]][path[i+1]]\n",
    "                    if index <= separation:\n",
    "                        time+=dist*traffic[0]['speed']/3.6\n",
    "                    elif index > separation:\n",
    "                        time+=dist*traffic[1]['speed']/3.6\n",
    "                    final_path.append(point)\n",
    "\n",
    "                \n",
    "print(\"Le chemin final en respectant les plages horaires en fonction du traffic est : \")\n",
    "print(final_path)\n",
    "print(\"----------------------------------------------------------------------------------------\")\n",
    "print(\"les points qui n'ont pas pu etre livrés sont : \", deliveries_left)\n"
   ]
  },
  {
   "cell_type": "markdown",
   "id": "657e969e",
   "metadata": {},
   "source": [
    "<h1>Le plan d'expérience</h1>\n",
    "<br>\n",
    "Le plan d'expérience s'appuie sur une étude du comportement de l'algorithme utilisé dans le but de déterminer dans quels cas il est judicieux de l'utiliser. Il nous permet d'apporter une réponse à la question : L'algorithme est-il capable de nous donner une solution se rapprochant de l'optimal global pour ce cas de figure en un temps donné ?<br>\n",
    "Cette partie s'appuie sur une version de notre algorithme de colonies de fourmis spécialisé sur les instances de taille réduite dans le but d'avoir des résultats pertinents pour qu'on puisse en tirer des conclusion le plus rapidement que possible.<br>\n",
    "\n",
    "Ci-dessous, nous crééons une matrice de la taille souhaitée par l'utilisateur avec des valeurs aléatoires représentant les poids des arêtes du graphe."
   ]
  },
  {
   "cell_type": "code",
   "execution_count": 7,
   "id": "f94faa1c",
   "metadata": {},
   "outputs": [],
   "source": [
    "import numpy as np\n",
    "import random as rd\n",
    "import matplotlib.pyplot as plt\n",
    "\n",
    "villes = int(input('Entrez le nombre de villes :'))\n",
    "nb_iter = int(input('Entrez le nombre d\\'itération(s) :'))\n",
    "graphe = np.random.randint(1,121, size=(villes, villes)) #génère une matrice aléatoire"
   ]
  },
  {
   "cell_type": "markdown",
   "id": "d87da8a4",
   "metadata": {},
   "source": [
    "Cela facilite les test en plus de les rendre plus rapides. Ensuite on crée la matrice des plages horaires correspondante car c'est une contrainte imposée dans le projet en plus de la contrainte qu'on a choisi la de la phase de modélisation du problème.<br>\n",
    "La solution initiale est une tournée des meilleurs voisins à partir d'un point aléatoire pour qu'à partir de ce premier trajet des phéromones y soit laissée pour permettre aux autres fourmis de se repérer. "
   ]
  },
  {
   "cell_type": "code",
   "execution_count": 9,
   "id": "5ecf9af2",
   "metadata": {},
   "outputs": [
    {
     "name": "stdout",
     "output_type": "stream",
     "text": [
      "position de départ :  7 8\n",
      "\n",
      "La ville de départ est la 7 ème ville à la  78 ème route\n",
      "\n",
      "\n",
      "La matrice d'adjacence: \n",
      " [[ 82 108 112 100  92  81  13  25  45  37]\n",
      " [ 49 118  69  26  17  28  99  69   7  38]\n",
      " [117 107   4  27  13  77  90  52   6  69]\n",
      " [ 81  62 119 108 115 118  45 111  14  25]\n",
      " [ 31  18  68 110   8  52  35  57  51 118]\n",
      " [ 19  51 109  95   3  78  55  11  34 103]\n",
      " [ 82  96  77  48  43  10  87  65  77  49]\n",
      " [ 28  60  85  84  12  45  26  85  67  33]\n",
      " [ 67  40  44  79 103 100  71  44  74  11]\n",
      " [  3  52  47 115  50   1 116  12  22  10]] \n",
      "\n",
      " Les plages horaires associées: \n",
      " [[ 2  2 10  4 20  8  8 18  6 18]\n",
      " [ 0 18 20  4 12 20 12 16 10 16]\n",
      " [14 16  8  0  0 10 14 10 12 12]\n",
      " [16  4 16  4  6  6  0  4 10  4]\n",
      " [ 4 16 16 10 16 20 16  4 14 12]\n",
      " [16 10 18 10 10 14  4 12 14 20]\n",
      " [16  6 14  8 14 16 16 10 20 14]\n",
      " [14 10 18 16 14 14 20  6 10  4]\n",
      " [18  8 14  8  8 16 16 16 16 20]\n",
      " [18 18 12  8  6 14 16 10 20 18]] \n",
      "\n",
      " L'ordre des routes empruntées par l'éclaireuse [82, 108, 13, 25, 49, 17, 28, 7, 4, 13] \n",
      "\n",
      " 346  min au total\n",
      "\n",
      "\n",
      " Tableau des phéromones déposée :  [0.0027393858007495647, 0.002069492329823907, 0.0016986155682067194, 0.0014581961339374607, 0.0012966176293561552, 0.0012214271740455533, 0.0011658394674776745, 0.0010180746370132647, 0.0009478274870593494, 0.0009238084669194439, 0.0008425133218305327, 0.0007693404927429784, 0.0007026148903330981, 0.0006509804169363663, 0.0006391284471067764, 0.0006075817224739419, 0.0005744409012480905, 0.0005568904154285249, 0.000554934125912968, 0.0004936601495100778, 0.00046484918443322676, 0.0004400313310396237, 0.00039037375908539926, 0.00038813574408654765, 0.0003832703142172864, 0.00038050079769544337, 0.0003703897956464828, 0.00035512457364531637, 0.00035406331231204683, 0.00034291877245273134, 0.0003359898926123181, 0.00033002349827971776, 0.00031499750317691904, 0.0002990935585545438, 0.00029038832324122224, 0.0002901216672970154, 0.0002833564983734976, 0.00027877279031157334, 0.0002778737868834211, 0.00027513134602593595, 0.0002671441620798617, 0.00026010633563648445, 0.0002514798320666886, 0.00024864309733980836, 0.00024799253978528244, 0.00024247313559973123, 0.00023850716835917195, 0.00023055886330803924, 0.0002258883429598068, 0.00022145502034096948, 0.00022083585439407023, 0.0002099285685624251, 0.00020840534016256583, 0.00020361492740265293, 0.00020170833944655232, 0.0001983732706277416, 0.00018761430860240487, 0.00018333220252598635, 0.00017941084366067563, 0.00017397714520178952, 0.00017394521693142768, 0.00017031940468272225, 0.0001692851378923646] \n",
      "\n",
      " Les arrêtes empruntées :  [82, 108, 13, 25, 49, 17, 28, 7, 4, 13, 0, 0, 112, 100, 92, 81, 0, 0, 45, 37, 0, 118, 69, 26, 0, 0, 99, 69, 0, 38, 117, 107, 0, 27, 0, 77, 90, 52, 6, 69, 81, 62, 119, 0, 115, 118, 45, 111, 14, 0, 31, 18, 68, 110, 8, 52, 35, 57, 51, 118, 19, 51, 109, 95, 3, 78, 55, 11, 34, 103, 0, 96, 77, 48, 43, 10, 87, 65, 77, 0, 0, 60, 85, 84, 12, 45, 26, 85, 67, 33, 67, 40, 44, 79, 103, 100, 71, 44, 74, 11, 3, 52, 47, 115, 50, 1, 116, 12, 22, 10, 0, 0, 0, 0, 0, 0, 0, 0, 0, 0, 0, 0, 0, 0, 0, 0, 0, 69, 0, 0, 0, 0, 0, 0, 0, 0, 0, 0, 0, 69, 81, 0, 0, 0, 0, 118, 45, 0, 0, 0, 0, 0, 0, 0, 0, 52, 0, 0, 0, 118, 0, 51, 0, 0, 0, 0, 0, 0, 0, 0, 0, 0, 77, 0, 0, 0, 0, 0, 77, 0, 0, 0, 0, 0, 0, 45, 26, 85, 0, 0, 67, 0, 0, 0, 103, 100, 0, 44, 0, 11, 3, 52, 0, 115, 0, 0, 0, 12, 0, 10] \n",
      "\n",
      " Somme des phéromones non évaporées 0.03269921782939769\n"
     ]
    }
   ],
   "source": [
    "plages = np.copy(graphe)\n",
    "\n",
    "villes_visitées = []\n",
    "meilleurs_voisins = []\n",
    "randomRow = np.random.randint(len(graphe), size=1) #ville de départ\n",
    "random = rd.choice(graphe[randomRow[0], :]) #valeur du point de départ\n",
    "meilleure_ville = 0\n",
    "indice_depart = np.array(graphe)\n",
    "indice1, indice2 = np.where(indice_depart==random) #indice du point de départ dans la matrice\n",
    "liste = graphe.tolist() \n",
    "l = sum(liste, []) #liste pour boucler et revenir au point de départ\n",
    "\n",
    "print(\"position de départ : \", indice1[0], indice2[0])\n",
    "                                                \n",
    "for i in range(len(plages)): #on remplit la matrice des plages horaires\n",
    "    for j in range(len(plages[i])):\n",
    "        plages[i][j] = rd.randrange(0,22,2)\n",
    "\n",
    "for i, j in enumerate(liste):\n",
    "    for v, k in enumerate(liste):\n",
    "        try:\n",
    "            if len(meilleurs_voisins) != villes:\n",
    "                if liste[i][v] < liste[i][v+1]:\n",
    "                    meilleure_ville = liste[i][v]\n",
    "                    villes_visitées.append(meilleure_ville)\n",
    "                    meilleurs_voisins.append(meilleure_ville)\n",
    "                elif liste[i][v] > liste[i][v+1] and graphe[v] in meilleurs_voisins:\n",
    "                     villes_visitées.append(meilleure_ville)\n",
    "        except:\n",
    "            pass\n",
    "        poids_total = sum(meilleurs_voisins)\n",
    "indice_l = l.index( random )\n",
    "print (\"\\nLa ville de départ est la\", indice1[0], \"ème ville à la \", indice_l, \"ème route\")\n",
    "\n",
    "rotatedListe = meilleurs_voisins[ indice_l: ] + meilleurs_voisins[ :indice_l ]\n",
    "\n",
    "print('\\n')\n",
    "print(\"La matrice d'adjacence: \\n\", graphe, \"\\n\\n Les plages horaires associées: \\n\", plages, \n",
    "       \"\\n\\n L'ordre des routes empruntées par l'éclaireuse\", rotatedListe,\n",
    "      \"\\n\\n\", poids_total, \" min au total\")\n",
    "\n",
    "\n",
    "pheromones = np.array(l)\n",
    "shape = (villes, villes)\n",
    "ph_graphe = pheromones.reshape(shape)\n",
    "\n",
    "phero_deposees = []\n",
    "visite_fourmis = [i for i in rotatedListe]\n",
    "meilleur_chemin = []\n",
    "\n",
    "rd.seed(2)\n",
    "alpha = rd.random()\n",
    "const_Q = rd.random()\n",
    "ph_eclaireuse = const_Q/sum(rotatedListe)\n",
    "max_phero = 0\n",
    "\n",
    "for i in range(len(ph_graphe)):\n",
    "    for j in range(len(ph_graphe[i])):\n",
    "        for k in range(len(rotatedListe)):\n",
    "            if ph_graphe[i][j] == rotatedListe[k]:\n",
    "                ph_graphe[i][j] = ph_eclaireuse\n",
    "\n",
    "#deplacement = (ph_col**2 * 1/ph_graphe[i, j]**2) / (sum(phero_deposees)**2 * 1/sum(ph_graphe))\n",
    "\n",
    "for iter in range(0, nb_iter):\n",
    "        for i in range(len(ph_graphe)):\n",
    "            for j in range(len(ph_graphe[i])):\n",
    "                if ph_graphe[i, j] not in visite_fourmis:\n",
    "                    visite_fourmis.append(ph_graphe[i, j])\n",
    "                    ph_col = const_Q/sum(visite_fourmis)\n",
    "                    phero_deposees.append(ph_col)\n",
    "                    ph_graphe[i, j] = ph_col\n",
    "                else: \n",
    "                    visite_fourmis.append(ph_graphe[i, j])\n",
    "                try:\n",
    "                    if ph_graphe[i, j] > ph_graphe[i][j+1]:\n",
    "                        meilleur_chemin.append(ph_graphe[i, j])\n",
    "                except:\n",
    "                    pass\n",
    "ph_formule_somme = (1 - alpha) * ph_col + sum(phero_deposees)\n",
    "print(\"\\n\\n Tableau des phéromones déposée : \", phero_deposees, \n",
    "      \"\\n\\n Les arrêtes empruntées : \", visite_fourmis,\n",
    "      \"\\n\\n Somme des phéromones non évaporées\", ph_formule_somme)"
   ]
  },
  {
   "cell_type": "markdown",
   "id": "9b6960e2",
   "metadata": {},
   "source": [
    "Notre objectif maintenant est de faire varier soit les instances (taille, poids etc...) de notre problème soit les paramètre aléatoire. Le paramètre le plus judicieux pour changer le comportement de l'algorithme pour espérer avoir une solution la plus optimale que possible est la quantité de phéromone déposée lors trajet. Lors de phases de test sur les phéromones, on en a conclus que même si le paramètre est aléatoire il influe grandement sur la qualité des solutions généré comme le montre le graphe suivant :"
   ]
  },
  {
   "cell_type": "code",
   "execution_count": 11,
   "id": "024d457e",
   "metadata": {},
   "outputs": [
    {
     "data": {
      "text/plain": [
       "Text(0, 0.5, 'Valeur des phéromones')"
      ]
     },
     "execution_count": 11,
     "metadata": {},
     "output_type": "execute_result"
    },
    {
     "data": {
      "image/png": "[encoded data removed]",
      "text/plain": [
       "<Figure size 432x288 with 1 Axes>"
      ]
     },
     "metadata": {
      "needs_background": "light"
     },
     "output_type": "display_data"
    }
   ],
   "source": [
    "plt.plot(phero_deposees)\n",
    "plt.title('Variation des valeurs des phéromones lors d\\'une itération')  # titre\n",
    "plt.xlabel('Nombre de villes')         # abscisse\n",
    "plt.ylabel('Valeur des phéromones')         # ordonnée"
   ]
  },
  {
   "cell_type": "markdown",
   "id": "0bcc9600",
   "metadata": {},
   "source": [
    "Comme nous pouvons le constater, les fourmis qui viennent de passer laissent plus de phéromones. En revanche, plus le chemin est long, moins l'intensité des phéromones sur la piste est grande. Ce qui est logique puisque nous prenont en compte l'évaporation des phéromones laissées sur la piste.\n",
    "Mais que se passe-t-il au niveau du graphe ? Le parcours a-t-il été optimisé de façon à minimiser la distance du cycle ? Le graphe ci-dessous témoigne de l'évolution du poids des arêtes empruntées selon le nombre d'itération de l'algorithme:"
   ]
  },
  {
   "cell_type": "code",
   "execution_count": 15,
   "id": "96ede885",
   "metadata": {},
   "outputs": [
    {
     "data": {
      "image/png": "[encoded data removed]",
      "text/plain": [
       "<Figure size 432x288 with 1 Axes>"
      ]
     },
     "metadata": {
      "needs_background": "light"
     },
     "output_type": "display_data"
    }
   ],
   "source": [
    "x = np.array([i for i in visite_fourmis])\n",
    "y = np.array([i for i in plages])\n",
    "\n",
    "t= x.tolist()\n",
    "k=y.tolist()\n",
    "plt.plot(visite_fourmis)\n",
    "plt.plot(range(nb_iter))                    \n",
    "plt.title('Evolution du poids des arretes traversées par les fourmis en fonction du nb d\\'iterations') \n",
    "plt.axis([None, None, 0, 200])\n",
    "plt.xlabel('Nb iterations')                      # Légende abscisse\n",
    "plt.ylabel('Poids arêtes')                      # Légende ordonnée\n",
    "plt.grid()                           # Ajout d'une grille\n",
    "plt.show()                           "
   ]
  },
  {
   "cell_type": "markdown",
   "id": "80f97f76",
   "metadata": {},
   "source": [
    "À travers ce graphe, on peut déduire que plus il y a de fourmis qui traversent le graphe, plus elles s'organisent pour ne passer que par les arrêtes avec le poids le plus minime le plus fréquement possible."
   ]
  },
  {
   "cell_type": "markdown",
   "id": "532e9c73",
   "metadata": {},
   "source": [
    "<h1>Les membres du groupe</h1>\n",
    "<br>\n",
    "Kevin Meffodong &nbsp &nbsp &nbsp &nbsp&nbsp &nbsp  Tayana Petro &nbsp &nbsp &nbsp &nbsp &nbsp &nbsp &nbsp&nbsp &nbsp &nbsp &nbsp  Yann Subts\n",
    "<br>\n",
    "<br>\n",
    "<h1>Les bilans personnels</h1>\n",
    "<br>\n",
    "Kevin Meffodong (Chef de projet) : Durant ce ce livrable je me suis occupé de l'implémentation de notre méta-heuristique selon les instances et d'une partie du plan d'expérience.</br>\n",
    "<br>\n",
    "Yann Subts : Lors de ce livrable je me suis occupé de la partie modélisation. J'ai donc décris  la méthode de résolution choisie, détails sur l'algorithme utilisé, c’est-à-dire la métaheuristique choisie et la modélisation du problème selon le formalisme de cette métaheuristique (voisinage, opérations de croisement…).\n",
    "</br>\n",
    "<br>\n",
    "Tayana Petro : Je me suis tournée essentiellement vers le problème de décision puis j’ai apporté au niveau de l'algorithme avec notamment le trajet des fourmis grâce aux phéromones. J’ai ensuite effectué une partie des études statistiques.</br>"
   ]
  }
 ],
 "metadata": {
  "kernelspec": {
   "display_name": "Python 3.10.4 64-bit",
   "language": "python",
   "name": "python3"
  },
  "language_info": {
   "codemirror_mode": {
    "name": "ipython",
    "version": 3
   },
   "file_extension": ".py",
   "mimetype": "text/x-python",
   "name": "python",
   "nbconvert_exporter": "python",
   "pygments_lexer": "ipython3",
   "version": "3.10.4"
  },
  "vscode": {
   "interpreter": {
    "hash": "403d57dcfdcd5c01f1393aeb8ff17384fd2db1dbea8dc3c7a3fb54e3839c2b30"
   }
  }
 },
 "nbformat": 4,
 "nbformat_minor": 5
}
